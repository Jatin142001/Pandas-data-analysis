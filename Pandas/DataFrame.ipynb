{
 "cells": [
  {
   "cell_type": "code",
   "execution_count": 4,
   "id": "e9e2004e-de28-4339-b687-0632fd380b20",
   "metadata": {},
   "outputs": [
    {
     "name": "stdout",
     "output_type": "stream",
     "text": [
      "    Name  Age  Salary\n",
      "0  Allen   28   35000\n",
      "1   John   31   45000\n",
      "2   Lisa   25   25000\n"
     ]
    }
   ],
   "source": [
    "import pandas as pd;\n",
    "\n",
    "data = {\"Name\": [\"Allen\", \"John\", \"Lisa\"],\n",
    "        \"Age\": [28,31,25],\n",
    "        \"Salary\": [35000, 45000, 25000]}\n",
    "df = pd.DataFrame(data)\n",
    "print(df)\n"
   ]
  },
  {
   "cell_type": "code",
   "execution_count": 15,
   "id": "f1c2b8b4-bad9-4174-add8-cd86ad147df6",
   "metadata": {},
   "outputs": [
    {
     "name": "stdout",
     "output_type": "stream",
     "text": [
      "   S.No    Name  English  Statistics  Maths  Computer  Literature  Obtained  \\\n",
      "0     1    Rock       89          65     84        94          75       407   \n",
      "1     2  Joseph       88          94     65        96          71       414   \n",
      "2     3   Jeeny       75          88     78        89          94       424   \n",
      "3     4    Mike       91          87     84        91          88       441   \n",
      "4     5   Blake       84          79     91        84          87       425   \n",
      "5     6   Chris       75          81     84        92          88       420   \n",
      "\n",
      "   Total  Percentage  \n",
      "0    500       0.814  \n",
      "1    500       0.828  \n",
      "2    500       0.848  \n",
      "3    500       0.882  \n",
      "4    500       0.850  \n",
      "5    500       0.840  \n"
     ]
    }
   ],
   "source": [
    "data = pd.read_excel(\"C:/Users/ashuj/OneDrive/Desktop/MS-Excel/Percentage_in_Excel.xlsx\")\n",
    "print(data)"
   ]
  },
  {
   "cell_type": "code",
   "execution_count": null,
   "id": "a3e60df4-8670-4151-b510-c73c674dfa00",
   "metadata": {},
   "outputs": [],
   "source": []
  }
 ],
 "metadata": {
  "kernelspec": {
   "display_name": "Python 3 (ipykernel)",
   "language": "python",
   "name": "python3"
  },
  "language_info": {
   "codemirror_mode": {
    "name": "ipython",
    "version": 3
   },
   "file_extension": ".py",
   "mimetype": "text/x-python",
   "name": "python",
   "nbconvert_exporter": "python",
   "pygments_lexer": "ipython3",
   "version": "3.12.4"
  }
 },
 "nbformat": 4,
 "nbformat_minor": 5
}
