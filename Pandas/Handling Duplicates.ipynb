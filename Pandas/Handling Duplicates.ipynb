{
 "cells": [
  {
   "cell_type": "code",
   "execution_count": 1,
   "id": "b1032509-6441-4a7c-9e90-09fc6d4b170b",
   "metadata": {},
   "outputs": [
    {
     "name": "stdout",
     "output_type": "stream",
     "text": [
      "0     False\n",
      "1      True\n",
      "2      True\n",
      "3      True\n",
      "4     False\n",
      "5      True\n",
      "6      True\n",
      "7     False\n",
      "8      True\n",
      "9      True\n",
      "10    False\n",
      "11     True\n",
      "12     True\n",
      "13    False\n",
      "14     True\n",
      "15     True\n",
      "16    False\n",
      "17     True\n",
      "18     True\n",
      "19    False\n",
      "20     True\n",
      "21     True\n",
      "22    False\n",
      "23     True\n",
      "24     True\n",
      "25    False\n",
      "26     True\n",
      "27     True\n",
      "28    False\n",
      "29     True\n",
      "30     True\n",
      "31    False\n",
      "32     True\n",
      "33     True\n",
      "34    False\n",
      "35     True\n",
      "36     True\n",
      "37    False\n",
      "38     True\n",
      "39     True\n",
      "40    False\n",
      "41     True\n",
      "42     True\n",
      "43    False\n",
      "44     True\n",
      "45     True\n",
      "Name: Project Name, dtype: bool\n"
     ]
    }
   ],
   "source": [
    "import pandas as pd;\n",
    "data = pd.read_excel(\"C:/Users/ashuj/OneDrive/Desktop/MS-Excel/Sample_Data.xlsx\")\n",
    "print(data[\"Project Name\"].duplicated())"
   ]
  },
  {
   "cell_type": "code",
   "execution_count": 2,
   "id": "f44a31c6-9379-49f9-949f-373d653135e0",
   "metadata": {},
   "outputs": [
    {
     "name": "stdout",
     "output_type": "stream",
     "text": [
      "31\n"
     ]
    }
   ],
   "source": [
    "print(data[\"Project Name\"].duplicated().sum())"
   ]
  },
  {
   "cell_type": "code",
   "execution_count": null,
   "id": "1fd6f644-dca7-4fba-9aae-48c67deca247",
   "metadata": {},
   "outputs": [],
   "source": []
  }
 ],
 "metadata": {
  "kernelspec": {
   "display_name": "Python 3 (ipykernel)",
   "language": "python",
   "name": "python3"
  },
  "language_info": {
   "codemirror_mode": {
    "name": "ipython",
    "version": 3
   },
   "file_extension": ".py",
   "mimetype": "text/x-python",
   "name": "python",
   "nbconvert_exporter": "python",
   "pygments_lexer": "ipython3",
   "version": "3.12.4"
  }
 },
 "nbformat": 4,
 "nbformat_minor": 5
}
