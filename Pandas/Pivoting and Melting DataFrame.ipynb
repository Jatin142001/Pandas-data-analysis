{
 "cells": [
  {
   "cell_type": "code",
   "execution_count": 16,
   "id": "e3137125-561e-4c59-8f2c-7d8029306a23",
   "metadata": {},
   "outputs": [
    {
     "name": "stdout",
     "output_type": "stream",
     "text": [
      "  keys   Name Houses Grades\n",
      "0   k1   John    Red    3rd\n",
      "1   k2    Ben   Blue    4th\n",
      "2   k1  David  Green    8th\n",
      "3   k2  Peter    Red    9th\n",
      "     Houses                   Grades                 \n",
      "Name    Ben  David John Peter    Ben David John Peter\n",
      "keys                                                 \n",
      "k1      NaN  Green  Red   NaN    NaN   8th  3rd   NaN\n",
      "k2     Blue    NaN  NaN   Red    4th   NaN  NaN   9th\n"
     ]
    }
   ],
   "source": [
    "import pandas as pd;\n",
    "\n",
    "dict = {\"keys\": [\"k1\", \"k2\", \"k1\", \"k2\"],\n",
    "       \"Name\": [\"John\", \"Ben\", \"David\", \"Peter\"],\n",
    "       \"Houses\": [\"Red\", \"Blue\", \"Green\", \"Red\"],\n",
    "       \"Grades\": [\"3rd\", \"4th\", \"8th\", \"9th\"]}\n",
    "\n",
    "df = pd.DataFrame(dict)\n",
    "print(df)\n",
    "pivoted_df = df.pivot(index=\"keys\",columns=\"Name\",values= [\"Houses\",\"Grades\"])\n",
    "print(pivoted_df)"
   ]
  },
  {
   "cell_type": "code",
   "execution_count": 17,
   "id": "e1c2377c-e5e0-4631-8cd0-3699c83ee11a",
   "metadata": {},
   "outputs": [
    {
     "name": "stdout",
     "output_type": "stream",
     "text": [
      "    Name Houses Grades\n",
      "0   John    Red    3rd\n",
      "1    Ben   Blue    4th\n",
      "2  David  Green    8th\n",
      "3  Peter    Red    9th\n"
     ]
    }
   ],
   "source": [
    "import pandas as pd;\n",
    "\n",
    "data = {\"Name\": [\"John\", \"Ben\", \"David\", \"Peter\"],\n",
    "       \"Houses\": [\"Red\", \"Blue\", \"Green\", \"Red\"],\n",
    "       \"Grades\": [\"3rd\", \"4th\", \"8th\", \"9th\"]}\n",
    "\n",
    "df = pd.DataFrame(data)\n",
    "print(df)"
   ]
  },
  {
   "cell_type": "code",
   "execution_count": 20,
   "id": "b35c6380-c426-45f0-9d0e-a0c10a7cfe6c",
   "metadata": {},
   "outputs": [
    {
     "name": "stdout",
     "output_type": "stream",
     "text": [
      "    Name variable  value\n",
      "0   John   Houses    Red\n",
      "1    Ben   Houses   Blue\n",
      "2  David   Houses  Green\n",
      "3  Peter   Houses    Red\n",
      "4   John   Grades    3rd\n",
      "5    Ben   Grades    4th\n",
      "6  David   Grades    8th\n",
      "7  Peter   Grades    9th\n"
     ]
    }
   ],
   "source": [
    "print(pd.melt(df, id_vars=[\"Name\"], value_vars = [\"Houses\",\"Grades\"]))"
   ]
  },
  {
   "cell_type": "code",
   "execution_count": null,
   "id": "3e3dc016-7d0c-44ff-9278-61fe2cf999d1",
   "metadata": {},
   "outputs": [],
   "source": []
  }
 ],
 "metadata": {
  "kernelspec": {
   "display_name": "Python 3 (ipykernel)",
   "language": "python",
   "name": "python3"
  },
  "language_info": {
   "codemirror_mode": {
    "name": "ipython",
    "version": 3
   },
   "file_extension": ".py",
   "mimetype": "text/x-python",
   "name": "python",
   "nbconvert_exporter": "python",
   "pygments_lexer": "ipython3",
   "version": "3.12.4"
  }
 },
 "nbformat": 4,
 "nbformat_minor": 5
}
