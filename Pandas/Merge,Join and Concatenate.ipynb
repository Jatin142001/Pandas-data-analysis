{
 "cells": [
  {
   "cell_type": "code",
   "execution_count": 2,
   "id": "a22b946b-8b2d-46b5-bfff-9dc6346457c6",
   "metadata": {},
   "outputs": [
    {
     "name": "stdout",
     "output_type": "stream",
     "text": [
      "  EmpId    Name  Age\n",
      "0   E01    Aman   30\n",
      "1   E02   Rahul   28\n",
      "2   E03   Kiran   43\n",
      "3   E04   Sonam   38\n",
      "4   E05  Jassie   22\n",
      "5   E06   Shyam   27\n",
      "  EmpId  Salary\n",
      "0   E01   25000\n",
      "1   E02   30000\n",
      "2   E03   42000\n",
      "3   E04   50000\n",
      "4   E05   74000\n",
      "5   E06   38000\n"
     ]
    }
   ],
   "source": [
    "import pandas as pd;\n",
    "\n",
    "data1 = {\"EmpId\": [\"E01\", \"E02\", \"E03\", \"E04\", \"E05\", \"E06\"],\n",
    "        \"Name\": [\"Aman\", \"Rahul\", \"Kiran\", \"Sonam\", \"Jassie\", \"Shyam\"],\n",
    "        \"Age\": [30,28,43,38,22,27]}\n",
    "\n",
    "data2 = {\"EmpId\": [\"E01\", \"E02\", \"E03\", \"E04\", \"E05\", \"E06\"],\n",
    "        \"Salary\": [25000, 30000, 42000, 50000, 74000, 38000]}\n",
    "\n",
    "df1 = pd.DataFrame(data1)\n",
    "df2 = pd.DataFrame(data2)\n",
    "\n",
    "print(df1)\n",
    "print(df2)"
   ]
  },
  {
   "cell_type": "markdown",
   "id": "e64e77dd-a410-4f54-8365-0d2b7b4c376b",
   "metadata": {},
   "source": [
    "# Merging the two columns on the basis of the common parameter "
   ]
  },
  {
   "cell_type": "code",
   "execution_count": 3,
   "id": "2eca4ace-d6f3-450c-a5a2-603cb339a409",
   "metadata": {},
   "outputs": [
    {
     "name": "stdout",
     "output_type": "stream",
     "text": [
      "  EmpId    Name  Age  Salary\n",
      "0   E01    Aman   30   25000\n",
      "1   E02   Rahul   28   30000\n",
      "2   E03   Kiran   43   42000\n",
      "3   E04   Sonam   38   50000\n",
      "4   E05  Jassie   22   74000\n",
      "5   E06   Shyam   27   38000\n"
     ]
    }
   ],
   "source": [
    "print(pd.merge(df1,df2, on = \"EmpId\"))"
   ]
  },
  {
   "cell_type": "code",
   "execution_count": 8,
   "id": "95d5c06d-9b23-4758-8c4d-d24a83fd5a9d",
   "metadata": {},
   "outputs": [],
   "source": [
    "import pandas as pd;\n",
    "\n",
    "data1 = {\"EmpId\": [\"E01\", \"E02\", \"E03\", \"E04\", \"E05\", \"E06\"],\n",
    "        \"Name\": [\"Aman\", \"Rahul\", \"Kiran\", \"Sonam\", \"Jassie\", \"Shyam\"],\n",
    "        \"Age\": [30,28,43,38,22,27]}\n",
    "\n",
    "data2 = {\"EmpId\": [\"E07\", \"E08\", \"E09\", \"E10\", \"E11\", \"E12\"],\n",
    "        \"Name\": [\"Shivum\", \"Rohan\", \"Karan\", \"Suman\", \"Jake\", \"Shoreya\"],\n",
    "        \"Age\": [30,28,43,38,22,27]}\n",
    "\n",
    "df1 = pd.DataFrame(data1)\n",
    "df2 = pd.DataFrame(data2)"
   ]
  },
  {
   "cell_type": "markdown",
   "id": "511365b1-d0b9-42c8-bbd3-f14778d5769a",
   "metadata": {},
   "source": [
    "# Concatenate two different data using concat() function "
   ]
  },
  {
   "cell_type": "code",
   "execution_count": 9,
   "id": "9794861a-b20f-40e3-a979-489eb40cad41",
   "metadata": {},
   "outputs": [
    {
     "name": "stdout",
     "output_type": "stream",
     "text": [
      "  EmpId     Name  Age\n",
      "0   E01     Aman   30\n",
      "1   E02    Rahul   28\n",
      "2   E03    Kiran   43\n",
      "3   E04    Sonam   38\n",
      "4   E05   Jassie   22\n",
      "5   E06    Shyam   27\n",
      "0   E07   Shivum   30\n",
      "1   E08    Rohan   28\n",
      "2   E09    Karan   43\n",
      "3   E10    Suman   38\n",
      "4   E11     Jake   22\n",
      "5   E12  Shoreya   27\n"
     ]
    }
   ],
   "source": [
    "print(pd.concat([df1,df2]))"
   ]
  },
  {
   "cell_type": "code",
   "execution_count": null,
   "id": "67476bd8-567c-44d6-9820-8438d4c4b683",
   "metadata": {},
   "outputs": [],
   "source": []
  }
 ],
 "metadata": {
  "kernelspec": {
   "display_name": "Python 3 (ipykernel)",
   "language": "python",
   "name": "python3"
  },
  "language_info": {
   "codemirror_mode": {
    "name": "ipython",
    "version": 3
   },
   "file_extension": ".py",
   "mimetype": "text/x-python",
   "name": "python",
   "nbconvert_exporter": "python",
   "pygments_lexer": "ipython3",
   "version": "3.12.4"
  }
 },
 "nbformat": 4,
 "nbformat_minor": 5
}
