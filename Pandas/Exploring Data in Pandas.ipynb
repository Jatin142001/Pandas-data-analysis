{
 "cells": [
  {
   "cell_type": "code",
   "execution_count": 4,
   "id": "5132d6d2-12f9-4727-adc1-abac9e6a4b3a",
   "metadata": {},
   "outputs": [
    {
     "name": "stdout",
     "output_type": "stream",
     "text": [
      "   Project Name              Task Name Assigned to Start Date  Days Required  \\\n",
      "0     Marketing        Market Research       Alice 2024-01-01             13   \n",
      "1     Marketing       Content Creation         Bob 2024-01-14             14   \n",
      "2     Marketing  Social Media Planning     Charlie 2024-01-28             22   \n",
      "3     Marketing      Campaign Analysis       Daisy 2024-02-18             25   \n",
      "4   Product Dev  Prototype Development       Ethan 2024-01-02             18   \n",
      "5   Product Dev      Quality Assurance       Fiona 2024-01-20             10   \n",
      "6   Product Dev  User Interface Design     Gabriel 2024-02-04             25   \n",
      "7  Customer Svc    Service Improvement      Hannah 2024-02-01             22   \n",
      "8  Customer Svc      Ticket Resolution         Ian 2024-02-24             25   \n",
      "9  Customer Svc      Customer Feedback       Julia 2024-03-21             30   \n",
      "\n",
      "    End Date  Progress  \n",
      "0 2024-01-14      0.78  \n",
      "1 2024-01-28      1.00  \n",
      "2 2024-02-19      0.45  \n",
      "3 2024-03-14      0.00  \n",
      "4 2024-01-20      1.00  \n",
      "5 2024-01-30      0.78  \n",
      "6 2024-02-29      0.00  \n",
      "7 2024-02-23      1.00  \n",
      "8 2024-03-20      1.00  \n",
      "9 2024-04-20      0.00  \n",
      "   Project Name                Task Name Assigned to Start Date  \\\n",
      "36     Training        Skill Development        Kyle 2024-02-28   \n",
      "37       Events           Event Planning       Laura 2024-01-03   \n",
      "38       Events    Conference Management        Mike 2024-02-03   \n",
      "39       Events  Sponsorship Coordinatio     n Nancy 2024-02-24   \n",
      "40    Logistics  Supply Chain Management       Oscar 2024-01-03   \n",
      "41    Logistics  Transportation Planning    Patricia 2024-01-29   \n",
      "42    Logistics   Inventory Optimization     Quentin 2024-03-29   \n",
      "43  Engineering           Product Design      Rachel 2024-01-02   \n",
      "44  Engineering       System Integration         Sam 2024-02-02   \n",
      "45  Engineering        Prototype Testing         Tom 2024-02-23   \n",
      "\n",
      "    Days Required   End Date  Progress  \n",
      "36             22 2024-03-21       0.0  \n",
      "37             25 2024-01-28       0.3  \n",
      "38             20 2024-02-23       0.0  \n",
      "39             35 2024-03-30       0.0  \n",
      "40             25 2024-01-28       0.5  \n",
      "41             30 2024-02-28       1.0  \n",
      "42             20 2024-04-18       0.0  \n",
      "43             25 2024-01-27       0.2  \n",
      "44             22 2024-02-24       0.0  \n",
      "45             27 2024-03-21       0.0  \n"
     ]
    }
   ],
   "source": [
    "import pandas as pd;\n",
    "\n",
    "data = pd.read_excel(\"C:/Users/ashuj/OneDrive/Desktop/MS-Excel/Sample_Data.xlsx\")\n",
    "print(data.head(10))\n",
    "print(data.tail(10))"
   ]
  },
  {
   "cell_type": "code",
   "execution_count": 5,
   "id": "1ccc57f4-a1cd-49a3-8f38-a9743c8f0640",
   "metadata": {},
   "outputs": [
    {
     "name": "stdout",
     "output_type": "stream",
     "text": [
      "<class 'pandas.core.frame.DataFrame'>\n",
      "RangeIndex: 46 entries, 0 to 45\n",
      "Data columns (total 7 columns):\n",
      " #   Column         Non-Null Count  Dtype         \n",
      "---  ------         --------------  -----         \n",
      " 0   Project Name   46 non-null     object        \n",
      " 1   Task Name      46 non-null     object        \n",
      " 2   Assigned to    46 non-null     object        \n",
      " 3   Start Date     46 non-null     datetime64[ns]\n",
      " 4   Days Required  46 non-null     int64         \n",
      " 5   End Date       46 non-null     datetime64[ns]\n",
      " 6   Progress       46 non-null     float64       \n",
      "dtypes: datetime64[ns](2), float64(1), int64(1), object(3)\n",
      "memory usage: 2.6+ KB\n",
      "None\n"
     ]
    }
   ],
   "source": [
    "print(data.info())"
   ]
  },
  {
   "cell_type": "code",
   "execution_count": 6,
   "id": "19703311-72a5-4979-a6c6-c92843bb6b12",
   "metadata": {},
   "outputs": [
    {
     "name": "stdout",
     "output_type": "stream",
     "text": [
      "                          Start Date  Days Required  \\\n",
      "count                             46      46.000000   \n",
      "mean   2024-02-02 03:07:49.565217280      26.478261   \n",
      "min              2024-01-01 00:00:00      10.000000   \n",
      "25%              2024-01-03 06:00:00      22.000000   \n",
      "50%              2024-02-02 00:00:00      25.000000   \n",
      "75%              2024-02-23 18:00:00      30.000000   \n",
      "max              2024-03-29 00:00:00      60.000000   \n",
      "std                              NaN       8.309938   \n",
      "\n",
      "                            End Date   Progress  \n",
      "count                             46  46.000000  \n",
      "mean   2024-02-28 01:33:54.782608640   0.368913  \n",
      "min              2024-01-14 00:00:00   0.000000  \n",
      "25%              2024-02-03 00:00:00   0.000000  \n",
      "50%              2024-02-27 00:00:00   0.150000  \n",
      "75%              2024-03-20 00:00:00   0.780000  \n",
      "max              2024-04-20 00:00:00   1.000000  \n",
      "std                              NaN   0.415148  \n"
     ]
    }
   ],
   "source": [
    "print(data.describe())"
   ]
  },
  {
   "cell_type": "code",
   "execution_count": 7,
   "id": "665c3420-b7eb-4203-98ec-5ed20a9c89de",
   "metadata": {},
   "outputs": [
    {
     "name": "stdout",
     "output_type": "stream",
     "text": [
      "Project Name     0\n",
      "Task Name        0\n",
      "Assigned to      0\n",
      "Start Date       0\n",
      "Days Required    0\n",
      "End Date         0\n",
      "Progress         0\n",
      "dtype: int64\n"
     ]
    }
   ],
   "source": [
    "print(data.isnull().sum())"
   ]
  },
  {
   "cell_type": "code",
   "execution_count": null,
   "id": "5e17e67a-7984-462a-a2cc-4d177888dcd2",
   "metadata": {},
   "outputs": [],
   "source": []
  }
 ],
 "metadata": {
  "kernelspec": {
   "display_name": "Python 3 (ipykernel)",
   "language": "python",
   "name": "python3"
  },
  "language_info": {
   "codemirror_mode": {
    "name": "ipython",
    "version": 3
   },
   "file_extension": ".py",
   "mimetype": "text/x-python",
   "name": "python",
   "nbconvert_exporter": "python",
   "pygments_lexer": "ipython3",
   "version": "3.12.4"
  }
 },
 "nbformat": 4,
 "nbformat_minor": 5
}
