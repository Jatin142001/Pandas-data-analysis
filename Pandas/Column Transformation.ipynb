{
 "cells": [
  {
   "cell_type": "code",
   "execution_count": 5,
   "id": "84738822-7f45-4af9-9af7-70db11f64f30",
   "metadata": {},
   "outputs": [
    {
     "name": "stdout",
     "output_type": "stream",
     "text": [
      "       EEID        Full Name                 Job Title  Department  \\\n",
      "0    E02387      Emily Davis                Sr. Manger          IT   \n",
      "1    E04105    Theodore Dinh       Technical Architect          IT   \n",
      "2    E02572     Luna Sanders                  Director     Finance   \n",
      "3    E02832  Penelope Jordan  Computer Systems Manager          IT   \n",
      "4    E01639        Austin Vo               Sr. Analyst     Finance   \n",
      "..      ...              ...                       ...         ...   \n",
      "995  E03094     Wesley Young               Sr. Analyst   Marketing   \n",
      "996  E01909     Lillian Khan                   Analyst     Finance   \n",
      "997  E04398      Oliver Yang                  Director   Marketing   \n",
      "998  E02521      Lily Nguyen               Sr. Analyst     Finance   \n",
      "999  E03545      Sofia Cheng            Vice President  Accounting   \n",
      "\n",
      "              Business Unit  Gender  Ethnicity  Age            Hire Date  \\\n",
      "0    Research & Development  Female      Black   55  2016-08-04 00:00:00   \n",
      "1             Manufacturing    Male      Asian   59           11/29/1997   \n",
      "2       Speciality Products  Female  Caucasian   50           10/26/2006   \n",
      "3             Manufacturing  Female  Caucasian   26            9/27/2019   \n",
      "4             Manufacturing    Male      Asian   55           11/20/1995   \n",
      "..                      ...     ...        ...  ...                  ...   \n",
      "995     Speciality Products    Male  Caucasian   33            9/18/2016   \n",
      "996     Speciality Products  Female      Asian   44            5/31/2010   \n",
      "997     Speciality Products    Male      Asian   31  2019-10-06 00:00:00   \n",
      "998     Speciality Products  Female      Asian   33            1/28/2012   \n",
      "999               Corporate  Female      Asian   63            7/26/2020   \n",
      "\n",
      "    Annual Salary  Bonus %        Country       City            Exit Date  \n",
      "0       $141,604      0.15  United States    Seattle           10/16/2021  \n",
      "1        $99,975      0.00          China  Chongqing                  NaN  \n",
      "2       $163,099      0.20  United States    Chicago                  NaN  \n",
      "3        $84,913      0.07  United States    Chicago                  NaN  \n",
      "4        $95,409      0.00  United States    Phoenix                  NaN  \n",
      "..            ...      ...            ...        ...                  ...  \n",
      "995      $98,427      0.00  United States   Columbus                  NaN  \n",
      "996      $47,387      0.00          China    Chengdu  2018-08-01 00:00:00  \n",
      "997     $176,710      0.15  United States      Miami                  NaN  \n",
      "998      $95,960      0.00          China    Chengdu                  NaN  \n",
      "999     $216,195      0.31  United States      Miami                  NaN  \n",
      "\n",
      "[1000 rows x 14 columns]\n"
     ]
    }
   ],
   "source": [
    "import pandas as pd;\n",
    "\n",
    "df = pd.read_excel(\"C:/Users/ashuj/OneDrive/Desktop/Advanced Excel/Employee_Sample_Data.xlsx\")\n",
    "print(df)"
   ]
  },
  {
   "cell_type": "markdown",
   "id": "d6309f25-dedb-4544-8577-fc5abb4a75b7",
   "metadata": {},
   "source": [
    "# Creating a new column with the condition applying in Bonus % column"
   ]
  },
  {
   "cell_type": "code",
   "execution_count": 6,
   "id": "426d9c7d-ac52-47a8-8c7f-60fdd4b7b5ae",
   "metadata": {},
   "outputs": [
    {
     "name": "stdout",
     "output_type": "stream",
     "text": [
      "     EEID        Full Name                 Job Title  Department  \\\n",
      "0  E02387      Emily Davis                Sr. Manger          IT   \n",
      "1  E04105    Theodore Dinh       Technical Architect          IT   \n",
      "2  E02572     Luna Sanders                  Director     Finance   \n",
      "3  E02832  Penelope Jordan  Computer Systems Manager          IT   \n",
      "4  E01639        Austin Vo               Sr. Analyst     Finance   \n",
      "5  E00644     Joshua Gupta    Account Representative       Sales   \n",
      "6  E01550      Ruby Barnes                   Manager          IT   \n",
      "7  E04332      Luke Martin                   Analyst     Finance   \n",
      "8  E04533    Easton Bailey                   Manager  Accounting   \n",
      "9  E03838  Madeline Walker               Sr. Analyst     Finance   \n",
      "\n",
      "            Business Unit  Gender  Ethnicity  Age            Hire Date  \\\n",
      "0  Research & Development  Female      Black   55  2016-08-04 00:00:00   \n",
      "1           Manufacturing    Male      Asian   59           11/29/1997   \n",
      "2     Speciality Products  Female  Caucasian   50           10/26/2006   \n",
      "3           Manufacturing  Female  Caucasian   26            9/27/2019   \n",
      "4           Manufacturing    Male      Asian   55           11/20/1995   \n",
      "5               Corporate    Male      Asian   57            1/24/2017   \n",
      "6               Corporate  Female  Caucasian   27  2020-01-07 00:00:00   \n",
      "7           Manufacturing    Male      Black   25            5/16/2020   \n",
      "8           Manufacturing    Male  Caucasian   29            1/25/2019   \n",
      "9     Speciality Products  Female  Caucasian   34            6/13/2018   \n",
      "\n",
      "  Annual Salary  Bonus %        Country       City   Exit Date GetsBonus  \n",
      "0     $141,604      0.15  United States    Seattle  10/16/2021     bonus  \n",
      "1      $99,975      0.00          China  Chongqing         NaN  no bonus  \n",
      "2     $163,099      0.20  United States    Chicago         NaN     bonus  \n",
      "3      $84,913      0.07  United States    Chicago         NaN     bonus  \n",
      "4      $95,409      0.00  United States    Phoenix         NaN  no bonus  \n",
      "5      $50,994      0.00          China  Chongqing         NaN  no bonus  \n",
      "6     $119,746      0.10  United States    Phoenix         NaN     bonus  \n",
      "7      $41,336      0.00  United States      Miami   5/20/2021  no bonus  \n",
      "8     $113,527      0.06  United States     Austin         NaN     bonus  \n",
      "9      $77,203      0.00  United States    Chicago         NaN  no bonus  \n"
     ]
    }
   ],
   "source": [
    "df.loc[(df[\"Bonus %\"] == 0), \"GetsBonus\"] = \"no bonus\"\n",
    "df.loc[(df[\"Bonus %\"] > 0), \"GetsBonus\"] = \"bonus\"\n",
    "print(df.head(10))"
   ]
  },
  {
   "cell_type": "code",
   "execution_count": 7,
   "id": "77e3b7a6-6d9b-4171-b9c8-cc287f0cd117",
   "metadata": {},
   "outputs": [
    {
     "name": "stdout",
     "output_type": "stream",
     "text": [
      "  First Name   Last Name  Salary EEID\n",
      "0       ross   tribbaini   20000   E1\n",
      "1    richeal        bing   45000   E2\n",
      "2     monica       green   27000   E7\n",
      "3       joey      geller   42000   E8\n",
      "4   chandler      beffay   30000   E4\n",
      "5      phobe  litchfield   70000   E5\n"
     ]
    }
   ],
   "source": [
    "data = pd.read_excel(\"C:/Users/ashuj/OneDrive/Desktop/Advanced Excel/ESD.xlsx\")\n",
    "print(data)"
   ]
  },
  {
   "cell_type": "markdown",
   "id": "5095af13-6d12-4315-bf84-a179675549f9",
   "metadata": {},
   "source": [
    "# Creating a new column Full Name of the combination of First Name and Last Name \n",
    "# Using .str.capitalize() for capitalize the first letter of the Full Name"
   ]
  },
  {
   "cell_type": "code",
   "execution_count": 10,
   "id": "a3140211-dffd-46c3-bd57-a3aa8cad0a0f",
   "metadata": {},
   "outputs": [
    {
     "name": "stdout",
     "output_type": "stream",
     "text": [
      "  First Name   Last Name  Salary EEID         Full Name\n",
      "0       ross   tribbaini   20000   E1    Ross Tribbaini\n",
      "1    richeal        bing   45000   E2      Richeal Bing\n",
      "2     monica       green   27000   E7      Monica Green\n",
      "3       joey      geller   42000   E8       Joey Geller\n",
      "4   chandler      beffay   30000   E4   Chandler Beffay\n",
      "5      phobe  litchfield   70000   E5  Phobe Litchfield\n"
     ]
    }
   ],
   "source": [
    "data[\"Full Name\"] = data[\"First Name\"].str.capitalize() +\" \"+ data[\"Last Name\"].str.capitalize()\n",
    "print(data)"
   ]
  },
  {
   "cell_type": "markdown",
   "id": "2b0259bb-9329-4704-8c0b-c45bd66fa2e0",
   "metadata": {},
   "source": [
    "# Creating a Bonus column by applying a condition on salary column"
   ]
  },
  {
   "cell_type": "code",
   "execution_count": 12,
   "id": "1dee6272-86aa-4c2e-a345-f372999ccf73",
   "metadata": {},
   "outputs": [
    {
     "name": "stdout",
     "output_type": "stream",
     "text": [
      "  First Name   Last Name  Salary EEID         Full Name    Bonus\n",
      "0       ross   tribbaini   20000   E1    Ross Tribbaini   4000.0\n",
      "1    richeal        bing   45000   E2      Richeal Bing   9000.0\n",
      "2     monica       green   27000   E7      Monica Green   5400.0\n",
      "3       joey      geller   42000   E8       Joey Geller   8400.0\n",
      "4   chandler      beffay   30000   E4   Chandler Beffay   6000.0\n",
      "5      phobe  litchfield   70000   E5  Phobe Litchfield  14000.0\n"
     ]
    }
   ],
   "source": [
    "data[\"Bonus\"] = (data[\"Salary\"]/100)*20\n",
    "print(data)"
   ]
  },
  {
   "cell_type": "markdown",
   "id": "0095a31c-0a6d-4f55-919a-caf872eb74b3",
   "metadata": {},
   "source": [
    "# Creating Short_month column using Months column and extracting the starting 3 values in the Short_month using .map() function"
   ]
  },
  {
   "cell_type": "code",
   "execution_count": 15,
   "id": "20216d75-3815-4629-a0e9-ebfd6f17603f",
   "metadata": {},
   "outputs": [
    {
     "name": "stdout",
     "output_type": "stream",
     "text": [
      "       Months Short_month\n",
      "0     January         Jan\n",
      "1    February         Feb\n",
      "2       March         Mar\n",
      "3       April         Apr\n",
      "4         May         May\n",
      "5        June         Jun\n",
      "6        July         Jul\n",
      "7      August         Aug\n",
      "8   September         Sep\n",
      "9     October         Oct\n",
      "10   November         Nov\n",
      "11   December         Dec\n"
     ]
    }
   ],
   "source": [
    "data = {\"Months\": [\"January\", \"February\", \"March\", \"April\", \"May\", \"June\", \"July\", \"August\", \"September\", \"October\", \"November\", \"December\"]}\n",
    "\n",
    "a = pd.DataFrame(data)\n",
    "\n",
    "def extract(value):\n",
    "    return value[0:3]\n",
    "\n",
    "\n",
    "a[\"Short_month\"] = a[\"Months\"].map(extract)\n",
    "print(a)"
   ]
  },
  {
   "cell_type": "code",
   "execution_count": null,
   "id": "f698b436-b753-4917-8299-3240fbebb6fb",
   "metadata": {},
   "outputs": [],
   "source": []
  }
 ],
 "metadata": {
  "kernelspec": {
   "display_name": "Python 3 (ipykernel)",
   "language": "python",
   "name": "python3"
  },
  "language_info": {
   "codemirror_mode": {
    "name": "ipython",
    "version": 3
   },
   "file_extension": ".py",
   "mimetype": "text/x-python",
   "name": "python",
   "nbconvert_exporter": "python",
   "pygments_lexer": "ipython3",
   "version": "3.12.4"
  }
 },
 "nbformat": 4,
 "nbformat_minor": 5
}
