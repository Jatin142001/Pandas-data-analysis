{
 "cells": [
  {
   "cell_type": "code",
   "execution_count": 2,
   "id": "183deec7-d7a3-470e-b6a4-68a8df5ce9cf",
   "metadata": {},
   "outputs": [
    {
     "name": "stdout",
     "output_type": "stream",
     "text": [
      "       EEID        Full Name                 Job Title  Department  \\\n",
      "0    E02387      Emily Davis                Sr. Manger          IT   \n",
      "1    E04105    Theodore Dinh       Technical Architect          IT   \n",
      "2    E02572     Luna Sanders                  Director     Finance   \n",
      "3    E02832  Penelope Jordan  Computer Systems Manager          IT   \n",
      "4    E01639        Austin Vo               Sr. Analyst     Finance   \n",
      "..      ...              ...                       ...         ...   \n",
      "995  E03094     Wesley Young               Sr. Analyst   Marketing   \n",
      "996  E01909     Lillian Khan                   Analyst     Finance   \n",
      "997  E04398      Oliver Yang                  Director   Marketing   \n",
      "998  E02521      Lily Nguyen               Sr. Analyst     Finance   \n",
      "999  E03545      Sofia Cheng            Vice President  Accounting   \n",
      "\n",
      "              Business Unit  Gender  Ethnicity  Age            Hire Date  \\\n",
      "0    Research & Development  Female      Black   55  2016-08-04 00:00:00   \n",
      "1             Manufacturing    Male      Asian   59           11/29/1997   \n",
      "2       Speciality Products  Female  Caucasian   50           10/26/2006   \n",
      "3             Manufacturing  Female  Caucasian   26            9/27/2019   \n",
      "4             Manufacturing    Male      Asian   55           11/20/1995   \n",
      "..                      ...     ...        ...  ...                  ...   \n",
      "995     Speciality Products    Male  Caucasian   33            9/18/2016   \n",
      "996     Speciality Products  Female      Asian   44            5/31/2010   \n",
      "997     Speciality Products    Male      Asian   31  2019-10-06 00:00:00   \n",
      "998     Speciality Products  Female      Asian   33            1/28/2012   \n",
      "999               Corporate  Female      Asian   63            7/26/2020   \n",
      "\n",
      "    Annual Salary  Bonus %        Country       City            Exit Date  \n",
      "0       $141,604      0.15  United States    Seattle           10/16/2021  \n",
      "1        $99,975      0.00          China  Chongqing                  NaN  \n",
      "2       $163,099      0.20  United States    Chicago                  NaN  \n",
      "3        $84,913      0.07  United States    Chicago                  NaN  \n",
      "4        $95,409      0.00  United States    Phoenix                  NaN  \n",
      "..            ...      ...            ...        ...                  ...  \n",
      "995      $98,427      0.00  United States   Columbus                  NaN  \n",
      "996      $47,387      0.00          China    Chengdu  2018-08-01 00:00:00  \n",
      "997     $176,710      0.15  United States      Miami                  NaN  \n",
      "998      $95,960      0.00          China    Chengdu                  NaN  \n",
      "999     $216,195      0.31  United States      Miami                  NaN  \n",
      "\n",
      "[1000 rows x 14 columns]\n"
     ]
    }
   ],
   "source": [
    "import pandas as pd;\n",
    "\n",
    "df = pd.read_excel(\"C:/Users/ashuj/OneDrive/Desktop/Advanced Excel/Employee_Sample_Data.xlsx\")\n",
    "print(df)"
   ]
  },
  {
   "cell_type": "markdown",
   "id": "69ffd06e-578e-439d-8e85-238d0a30e09f",
   "metadata": {},
   "source": [
    "# GroupBy with aggregate function finding the count of the gender in the Department column "
   ]
  },
  {
   "cell_type": "code",
   "execution_count": 5,
   "id": "c187014b-9106-426b-a36d-c448f782859a",
   "metadata": {},
   "outputs": [
    {
     "name": "stdout",
     "output_type": "stream",
     "text": [
      "                        EEID\n",
      "Department      Gender      \n",
      "Accounting      Female    53\n",
      "                Male      43\n",
      "Engineering     Female    80\n",
      "                Male      78\n",
      "Finance         Female    69\n",
      "                Male      51\n",
      "Human Resources Female    64\n",
      "                Male      61\n",
      "IT              Female   119\n",
      "                Male     122\n",
      "Marketing       Female    57\n",
      "                Male      63\n",
      "Sales           Female    76\n",
      "                Male      64\n"
     ]
    }
   ],
   "source": [
    "gp = df.groupby([\"Department\", \"Gender\"]).agg({\"EEID\": \"count\"})\n",
    "print(gp)"
   ]
  },
  {
   "cell_type": "code",
   "execution_count": 9,
   "id": "6d103fba-d873-4f0f-a7d4-cf4b1b1119d3",
   "metadata": {},
   "outputs": [
    {
     "name": "stdout",
     "output_type": "stream",
     "text": [
      "                     Annual Salary  Age\n",
      "Country       Gender                   \n",
      "Brazil        Female      $98,581    25\n",
      "              Male        $99,697    26\n",
      "China         Female      $99,989    25\n",
      "              Male        $99,975    25\n",
      "United States Female      $99,575    25\n",
      "              Male        $99,774    25\n"
     ]
    }
   ],
   "source": [
    "gp1 = df.groupby([\"Country\", \"Gender\"]).agg({\"Annual Salary\": \"max\", \"Age\": \"min\"})\n",
    "print(gp1)"
   ]
  },
  {
   "cell_type": "code",
   "execution_count": null,
   "id": "8135bc19-cacc-4a20-be2f-4920bc408a26",
   "metadata": {},
   "outputs": [],
   "source": []
  }
 ],
 "metadata": {
  "kernelspec": {
   "display_name": "Python 3 (ipykernel)",
   "language": "python",
   "name": "python3"
  },
  "language_info": {
   "codemirror_mode": {
    "name": "ipython",
    "version": 3
   },
   "file_extension": ".py",
   "mimetype": "text/x-python",
   "name": "python",
   "nbconvert_exporter": "python",
   "pygments_lexer": "ipython3",
   "version": "3.12.4"
  }
 },
 "nbformat": 4,
 "nbformat_minor": 5
}
