{
 "cells": [
  {
   "cell_type": "code",
   "execution_count": 3,
   "id": "0f00bf8b-9b42-4da9-b720-9343a7318fdb",
   "metadata": {},
   "outputs": [
    {
     "name": "stdout",
     "output_type": "stream",
     "text": [
      "   Fruits  Price  Quantity\n",
      "0   Apple    150        15\n",
      "1   Mango    100        10\n",
      "2  Banana     50        12\n",
      "3  Grapes     80         8\n",
      "4  Papaya     40         4\n",
      "   Fruits  Price  Quantity\n",
      "0   Apple    180        20\n",
      "1   Mango    120         8\n",
      "2  Banana     50        12\n",
      "3  Grapes     80         8\n",
      "4  Papaya     30         5\n"
     ]
    }
   ],
   "source": [
    "import pandas as pd;\n",
    "\n",
    "dict = {\"Fruits\": [\"Apple\", \"Mango\", \"Banana\", \"Grapes\", \"Papaya\"],\n",
    "       \"Price\": [150,100,50,80,40],\n",
    "       \"Quantity\": [15,10,12,8,4]}\n",
    "\n",
    "df1 = pd.DataFrame(dict)\n",
    "print(df1)\n",
    "\n",
    "df2 = df1.copy()\n",
    "\n",
    "df2.loc[0,\"Price\"] = 180\n",
    "df2.loc[1,\"Price\"] = 120\n",
    "df2.loc[4,\"Price\"] = 30\n",
    "\n",
    "df2.loc[0,\"Quantity\"] = 20\n",
    "df2.loc[1,\"Quantity\"] = 8\n",
    "df2.loc[4,\"Quantity\"] = 5\n",
    "\n",
    "print(df2)\n"
   ]
  },
  {
   "cell_type": "markdown",
   "id": "146a22c3-9b99-4270-85f2-bb30f1f05ccd",
   "metadata": {},
   "source": [
    "# Compare the two different data on the basis of price and quantity after come time using .compare() function"
   ]
  },
  {
   "cell_type": "code",
   "execution_count": 5,
   "id": "def7b709-beb9-4b11-acea-5db99d388418",
   "metadata": {},
   "outputs": [
    {
     "name": "stdout",
     "output_type": "stream",
     "text": [
      "         Price  Quantity\n",
      "0 self   150.0      15.0\n",
      "  other  180.0      20.0\n",
      "1 self   100.0      10.0\n",
      "  other  120.0       8.0\n",
      "4 self    40.0       4.0\n",
      "  other   30.0       5.0\n"
     ]
    }
   ],
   "source": [
    "print(df1.compare(df2, align_axis = 0))"
   ]
  },
  {
   "cell_type": "code",
   "execution_count": null,
   "id": "f495cfac-75db-43e7-a829-5818349d584e",
   "metadata": {},
   "outputs": [],
   "source": []
  }
 ],
 "metadata": {
  "kernelspec": {
   "display_name": "Python 3 (ipykernel)",
   "language": "python",
   "name": "python3"
  },
  "language_info": {
   "codemirror_mode": {
    "name": "ipython",
    "version": 3
   },
   "file_extension": ".py",
   "mimetype": "text/x-python",
   "name": "python",
   "nbconvert_exporter": "python",
   "pygments_lexer": "ipython3",
   "version": "3.12.4"
  }
 },
 "nbformat": 4,
 "nbformat_minor": 5
}
